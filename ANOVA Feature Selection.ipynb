{
 "cells": [
  {
   "cell_type": "code",
   "execution_count": 34,
   "metadata": {
    "scrolled": true
   },
   "outputs": [
    {
     "name": "stdout",
     "output_type": "stream",
     "text": [
      "[0.10685884 0.09681871 0.08058806 0.11628929 0.07038816 0.13874597\n",
      " 0.0672374  0.06934756 0.10710893 0.07474177 0.07187531]\n"
     ]
    },
    {
     "data": {
      "image/png": "[encoded data removed]",
      "text/plain": [
       "<Figure size 432x288 with 1 Axes>"
      ]
     },
     "metadata": {
      "needs_background": "light"
     },
     "output_type": "display_data"
    }
   ],
   "source": [
    "import pandas as pd\n",
    "import numpy as np\n",
    "df = pd.read_csv(\"Dragon.csv\")\n",
    "X = data.iloc[:,0:11]  #independent columns\n",
    "y = data.iloc[:,-1]    #target column i.e price range\n",
    "from sklearn.ensemble import ExtraTreesClassifier\n",
    "import matplotlib.pyplot as plt\n",
    "model = ExtraTreesClassifier()\n",
    "model.fit(X,y)\n",
    "print(model.feature_importances_) #use inbuilt class feature_importances of tree based classifiers\n",
    "#plot graph of feature importances for better visualization\n",
    "feat_importances = pd.Series(model.feature_importances_, index=X.columns)\n",
    "feat_importances.nlargest(11).plot(kind='barh')\n",
    "plt.show()"
   ]
  },
  {
   "cell_type": "code",
   "execution_count": 35,
   "metadata": {},
   "outputs": [
    {
     "data": {
      "text/html": [
       "<div>\n",
       "<style scoped>\n",
       "    .dataframe tbody tr th:only-of-type {\n",
       "        vertical-align: middle;\n",
       "    }\n",
       "\n",
       "    .dataframe tbody tr th {\n",
       "        vertical-align: top;\n",
       "    }\n",
       "\n",
       "    .dataframe thead th {\n",
       "        text-align: right;\n",
       "    }\n",
       "</style>\n",
       "<table border=\"1\" class=\"dataframe\">\n",
       "  <thead>\n",
       "    <tr style=\"text-align: right;\">\n",
       "      <th></th>\n",
       "      <th>A</th>\n",
       "      <th>B</th>\n",
       "      <th>C</th>\n",
       "      <th>D</th>\n",
       "      <th>E</th>\n",
       "      <th>F</th>\n",
       "      <th>G</th>\n",
       "      <th>H</th>\n",
       "      <th>I</th>\n",
       "      <th>K</th>\n",
       "      <th>L</th>\n",
       "      <th>OUTPUT</th>\n",
       "    </tr>\n",
       "  </thead>\n",
       "  <tbody>\n",
       "    <tr>\n",
       "      <th>0</th>\n",
       "      <td>2.871078</td>\n",
       "      <td>0.702344</td>\n",
       "      <td>0.582005</td>\n",
       "      <td>0.892594</td>\n",
       "      <td>35.860545</td>\n",
       "      <td>75.320097</td>\n",
       "      <td>3.161193</td>\n",
       "      <td>7.663964</td>\n",
       "      <td>5172.331754</td>\n",
       "      <td>4.780638</td>\n",
       "      <td>1.869624</td>\n",
       "      <td>0</td>\n",
       "    </tr>\n",
       "    <tr>\n",
       "      <th>1</th>\n",
       "      <td>2.046415</td>\n",
       "      <td>0.817459</td>\n",
       "      <td>0.460835</td>\n",
       "      <td>0.890817</td>\n",
       "      <td>48.466298</td>\n",
       "      <td>82.302837</td>\n",
       "      <td>3.412417</td>\n",
       "      <td>8.672161</td>\n",
       "      <td>6348.397332</td>\n",
       "      <td>3.042993</td>\n",
       "      <td>1.319186</td>\n",
       "      <td>0</td>\n",
       "    </tr>\n",
       "    <tr>\n",
       "      <th>2</th>\n",
       "      <td>1.627206</td>\n",
       "      <td>0.829892</td>\n",
       "      <td>0.467573</td>\n",
       "      <td>0.892619</td>\n",
       "      <td>45.044367</td>\n",
       "      <td>76.867407</td>\n",
       "      <td>3.656974</td>\n",
       "      <td>8.814623</td>\n",
       "      <td>5646.769388</td>\n",
       "      <td>3.318057</td>\n",
       "      <td>1.387250</td>\n",
       "      <td>0</td>\n",
       "    </tr>\n",
       "    <tr>\n",
       "      <th>3</th>\n",
       "      <td>0.665211</td>\n",
       "      <td>0.866678</td>\n",
       "      <td>0.309928</td>\n",
       "      <td>0.918354</td>\n",
       "      <td>36.776560</td>\n",
       "      <td>54.956953</td>\n",
       "      <td>4.178096</td>\n",
       "      <td>9.625368</td>\n",
       "      <td>2520.387260</td>\n",
       "      <td>3.423472</td>\n",
       "      <td>1.267793</td>\n",
       "      <td>0</td>\n",
       "    </tr>\n",
       "    <tr>\n",
       "      <th>4</th>\n",
       "      <td>2.622963</td>\n",
       "      <td>0.735477</td>\n",
       "      <td>0.329916</td>\n",
       "      <td>0.851532</td>\n",
       "      <td>51.809514</td>\n",
       "      <td>75.317493</td>\n",
       "      <td>3.848577</td>\n",
       "      <td>9.588471</td>\n",
       "      <td>5276.065990</td>\n",
       "      <td>2.464331</td>\n",
       "      <td>1.020398</td>\n",
       "      <td>0</td>\n",
       "    </tr>\n",
       "  </tbody>\n",
       "</table>\n",
       "</div>"
      ],
      "text/plain": [
       "          A         B         C         D          E          F         G  \\\n",
       "0  2.871078  0.702344  0.582005  0.892594  35.860545  75.320097  3.161193   \n",
       "1  2.046415  0.817459  0.460835  0.890817  48.466298  82.302837  3.412417   \n",
       "2  1.627206  0.829892  0.467573  0.892619  45.044367  76.867407  3.656974   \n",
       "3  0.665211  0.866678  0.309928  0.918354  36.776560  54.956953  4.178096   \n",
       "4  2.622963  0.735477  0.329916  0.851532  51.809514  75.317493  3.848577   \n",
       "\n",
       "          H            I         K         L  OUTPUT  \n",
       "0  7.663964  5172.331754  4.780638  1.869624       0  \n",
       "1  8.672161  6348.397332  3.042993  1.319186       0  \n",
       "2  8.814623  5646.769388  3.318057  1.387250       0  \n",
       "3  9.625368  2520.387260  3.423472  1.267793       0  \n",
       "4  9.588471  5276.065990  2.464331  1.020398       0  "
      ]
     },
     "execution_count": 35,
     "metadata": {},
     "output_type": "execute_result"
    }
   ],
   "source": [
    "df.head()"
   ]
  },
  {
   "cell_type": "code",
   "execution_count": 36,
   "metadata": {},
   "outputs": [],
   "source": [
    "y = df.iloc[:,11]\n",
    "x = df.iloc[:,0:11]\n",
    "from sklearn.model_selection import train_test_split\n",
    "x_train, x_test, y_train, y_test = train_test_split(x, y, test_size=0.2, random_state=42)"
   ]
  },
  {
   "cell_type": "code",
   "execution_count": 37,
   "metadata": {},
   "outputs": [
    {
     "data": {
      "text/plain": [
       "SelectKBest(k=8)"
      ]
     },
     "execution_count": 37,
     "metadata": {},
     "output_type": "execute_result"
    }
   ],
   "source": [
    "from sklearn.feature_selection import SelectKBest, f_classif\n",
    "selector = SelectKBest(f_classif, k=8)\n",
    "selector.fit(x_train, y_train)"
   ]
  },
  {
   "cell_type": "code",
   "execution_count": 38,
   "metadata": {},
   "outputs": [
    {
     "data": {
      "text/plain": [
       "array([ 5.23102052, 23.53280924,  0.31250892, 30.91448093, 41.28363535,\n",
       "       96.49488888,  1.68916322,  0.51146237, 55.29275189, 17.47728183,\n",
       "       20.51952223])"
      ]
     },
     "execution_count": 38,
     "metadata": {},
     "output_type": "execute_result"
    }
   ],
   "source": [
    "selector.scores_\n"
   ]
  },
  {
   "cell_type": "code",
   "execution_count": 39,
   "metadata": {},
   "outputs": [
    {
     "data": {
      "text/plain": [
       "array([ 0,  1,  3,  4,  5,  8,  9, 10], dtype=int64)"
      ]
     },
     "execution_count": 39,
     "metadata": {},
     "output_type": "execute_result"
    }
   ],
   "source": [
    "cols = selector.get_support(indices=True)\n",
    "cols"
   ]
  },
  {
   "cell_type": "code",
   "execution_count": 40,
   "metadata": {},
   "outputs": [],
   "source": [
    "x_train_s = x_train.iloc[:,cols]\n",
    "x_test_s = x_test.iloc[:,cols]"
   ]
  },
  {
   "cell_type": "code",
   "execution_count": 41,
   "metadata": {},
   "outputs": [],
   "source": [
    "from sklearn.tree import DecisionTreeClassifier\n",
    "#Initalize the classifier\n",
    "clf = DecisionTreeClassifier()\n",
    "#Fitting the training data\n",
    "clf.fit(x_train, y_train)\n",
    "#Predict the response for test dataset\n",
    "y_pred = clf.predict(x_test)"
   ]
  },
  {
   "cell_type": "code",
   "execution_count": 42,
   "metadata": {},
   "outputs": [
    {
     "name": "stdout",
     "output_type": "stream",
     "text": [
      "Accuracy: 0.7363636363636363\n"
     ]
    }
   ],
   "source": [
    "# Model Accuracy, how often is the classifier correct?\n",
    "from sklearn import metrics\n",
    "print(\"Accuracy:\",metrics.accuracy_score(y_test, y_pred))"
   ]
  },
  {
   "cell_type": "code",
   "execution_count": 43,
   "metadata": {},
   "outputs": [
    {
     "name": "stdout",
     "output_type": "stream",
     "text": [
      "Accuracy: 0.5818181818181818\n"
     ]
    }
   ],
   "source": [
    "clf.fit(x_train_s, y_train)\n",
    "#Predict the response for test dataset\n",
    "y_pred = clf.predict(x_test_s)\n",
    "from sklearn import metrics\n",
    "print(\"Accuracy:\",metrics.accuracy_score(y_test, y_pred))"
   ]
  },
  {
   "cell_type": "code",
   "execution_count": null,
   "metadata": {},
   "outputs": [],
   "source": []
  },
  {
   "cell_type": "code",
   "execution_count": null,
   "metadata": {},
   "outputs": [],
   "source": []
  }
 ],
 "metadata": {
  "kernelspec": {
   "display_name": "Python 3",
   "language": "python",
   "name": "python3"
  },
  "language_info": {
   "codemirror_mode": {
    "name": "ipython",
    "version": 3
   },
   "file_extension": ".py",
   "mimetype": "text/x-python",
   "name": "python",
   "nbconvert_exporter": "python",
   "pygments_lexer": "ipython3",
   "version": "3.8.5"
  }
 },
 "nbformat": 4,
 "nbformat_minor": 5
}
