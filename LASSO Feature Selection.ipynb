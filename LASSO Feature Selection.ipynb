{
 "cells": [
  {
   "cell_type": "code",
   "execution_count": 12,
   "id": "11c35d38",
   "metadata": {},
   "outputs": [],
   "source": [
    "import pandas as pd\n",
    "import matplotlib.pyplot as plt\n",
    "from sklearn.linear_model import Lasso\n",
    "from sklearn.feature_selection import mutual_info_classif\n",
    "from sklearn.preprocessing import MinMaxScaler"
   ]
  },
  {
   "cell_type": "code",
   "execution_count": 13,
   "id": "23c6e621",
   "metadata": {},
   "outputs": [],
   "source": [
    "\n",
    "# Read in the CSV file using pandas\n",
    "df = pd.read_csv('data11.csv')"
   ]
  },
  {
   "cell_type": "code",
   "execution_count": 14,
   "id": "590118af",
   "metadata": {},
   "outputs": [
    {
     "data": {
      "text/html": [
       "<div>\n",
       "<style scoped>\n",
       "    .dataframe tbody tr th:only-of-type {\n",
       "        vertical-align: middle;\n",
       "    }\n",
       "\n",
       "    .dataframe tbody tr th {\n",
       "        vertical-align: top;\n",
       "    }\n",
       "\n",
       "    .dataframe thead th {\n",
       "        text-align: right;\n",
       "    }\n",
       "</style>\n",
       "<table border=\"1\" class=\"dataframe\">\n",
       "  <thead>\n",
       "    <tr style=\"text-align: right;\">\n",
       "      <th></th>\n",
       "      <th>Homogenity</th>\n",
       "      <th>Kurtosis</th>\n",
       "      <th>Correlation</th>\n",
       "      <th>Skewness</th>\n",
       "      <th>Entropy</th>\n",
       "      <th>RMS</th>\n",
       "      <th>Mean</th>\n",
       "      <th>Standard_Deviation</th>\n",
       "      <th>Energy</th>\n",
       "      <th>Contrast</th>\n",
       "      <th>Variance</th>\n",
       "      <th>Output</th>\n",
       "    </tr>\n",
       "  </thead>\n",
       "  <tbody>\n",
       "    <tr>\n",
       "      <th>0</th>\n",
       "      <td>0.960662</td>\n",
       "      <td>15.266355</td>\n",
       "      <td>0.823309</td>\n",
       "      <td>3.358529</td>\n",
       "      <td>3.609497</td>\n",
       "      <td>8.611277</td>\n",
       "      <td>18.732925</td>\n",
       "      <td>39.105572</td>\n",
       "      <td>0.573108</td>\n",
       "      <td>0.456388</td>\n",
       "      <td>1294.854341</td>\n",
       "      <td>1</td>\n",
       "    </tr>\n",
       "    <tr>\n",
       "      <th>1</th>\n",
       "      <td>0.954867</td>\n",
       "      <td>12.042898</td>\n",
       "      <td>0.853721</td>\n",
       "      <td>2.849428</td>\n",
       "      <td>4.170216</td>\n",
       "      <td>9.975618</td>\n",
       "      <td>27.064723</td>\n",
       "      <td>47.067766</td>\n",
       "      <td>0.420138</td>\n",
       "      <td>0.523621</td>\n",
       "      <td>2004.468146</td>\n",
       "      <td>1</td>\n",
       "    </tr>\n",
       "    <tr>\n",
       "      <th>2</th>\n",
       "      <td>0.960758</td>\n",
       "      <td>8.903400</td>\n",
       "      <td>0.884276</td>\n",
       "      <td>2.386336</td>\n",
       "      <td>3.996901</td>\n",
       "      <td>9.922909</td>\n",
       "      <td>29.477890</td>\n",
       "      <td>51.480671</td>\n",
       "      <td>0.459804</td>\n",
       "      <td>0.481740</td>\n",
       "      <td>2443.327884</td>\n",
       "      <td>1</td>\n",
       "    </tr>\n",
       "    <tr>\n",
       "      <th>3</th>\n",
       "      <td>0.976719</td>\n",
       "      <td>5.570027</td>\n",
       "      <td>0.987480</td>\n",
       "      <td>1.956509</td>\n",
       "      <td>2.839669</td>\n",
       "      <td>6.516737</td>\n",
       "      <td>31.075862</td>\n",
       "      <td>63.630226</td>\n",
       "      <td>0.540382</td>\n",
       "      <td>0.097457</td>\n",
       "      <td>2657.972212</td>\n",
       "      <td>1</td>\n",
       "    </tr>\n",
       "    <tr>\n",
       "      <th>4</th>\n",
       "      <td>0.966973</td>\n",
       "      <td>3.075216</td>\n",
       "      <td>0.984210</td>\n",
       "      <td>1.267840</td>\n",
       "      <td>3.922062</td>\n",
       "      <td>8.610412</td>\n",
       "      <td>50.705765</td>\n",
       "      <td>79.741854</td>\n",
       "      <td>0.386375</td>\n",
       "      <td>0.184712</td>\n",
       "      <td>4034.105273</td>\n",
       "      <td>1</td>\n",
       "    </tr>\n",
       "    <tr>\n",
       "      <th>...</th>\n",
       "      <td>...</td>\n",
       "      <td>...</td>\n",
       "      <td>...</td>\n",
       "      <td>...</td>\n",
       "      <td>...</td>\n",
       "      <td>...</td>\n",
       "      <td>...</td>\n",
       "      <td>...</td>\n",
       "      <td>...</td>\n",
       "      <td>...</td>\n",
       "      <td>...</td>\n",
       "      <td>...</td>\n",
       "    </tr>\n",
       "    <tr>\n",
       "      <th>398</th>\n",
       "      <td>0.962738</td>\n",
       "      <td>3.333108</td>\n",
       "      <td>0.967364</td>\n",
       "      <td>1.251144</td>\n",
       "      <td>4.555246</td>\n",
       "      <td>10.167802</td>\n",
       "      <td>50.122040</td>\n",
       "      <td>70.972414</td>\n",
       "      <td>0.339875</td>\n",
       "      <td>0.157950</td>\n",
       "      <td>3483.192466</td>\n",
       "      <td>0</td>\n",
       "    </tr>\n",
       "    <tr>\n",
       "      <th>399</th>\n",
       "      <td>0.954041</td>\n",
       "      <td>3.372392</td>\n",
       "      <td>0.953120</td>\n",
       "      <td>1.214767</td>\n",
       "      <td>4.931591</td>\n",
       "      <td>10.993690</td>\n",
       "      <td>47.370056</td>\n",
       "      <td>63.674366</td>\n",
       "      <td>0.315570</td>\n",
       "      <td>0.250123</td>\n",
       "      <td>3311.585020</td>\n",
       "      <td>0</td>\n",
       "    </tr>\n",
       "    <tr>\n",
       "      <th>400</th>\n",
       "      <td>0.933813</td>\n",
       "      <td>2.885659</td>\n",
       "      <td>0.886777</td>\n",
       "      <td>1.108409</td>\n",
       "      <td>4.582792</td>\n",
       "      <td>10.586401</td>\n",
       "      <td>54.032267</td>\n",
       "      <td>74.053102</td>\n",
       "      <td>0.314780</td>\n",
       "      <td>0.815119</td>\n",
       "      <td>4917.459593</td>\n",
       "      <td>0</td>\n",
       "    </tr>\n",
       "    <tr>\n",
       "      <th>401</th>\n",
       "      <td>0.965171</td>\n",
       "      <td>5.990507</td>\n",
       "      <td>0.935475</td>\n",
       "      <td>2.004759</td>\n",
       "      <td>2.985550</td>\n",
       "      <td>8.017354</td>\n",
       "      <td>29.107671</td>\n",
       "      <td>57.670040</td>\n",
       "      <td>0.537572</td>\n",
       "      <td>0.277083</td>\n",
       "      <td>2971.255470</td>\n",
       "      <td>0</td>\n",
       "    </tr>\n",
       "    <tr>\n",
       "      <th>402</th>\n",
       "      <td>0.949785</td>\n",
       "      <td>4.534865</td>\n",
       "      <td>0.883559</td>\n",
       "      <td>1.589998</td>\n",
       "      <td>3.807573</td>\n",
       "      <td>9.580801</td>\n",
       "      <td>36.777445</td>\n",
       "      <td>59.604628</td>\n",
       "      <td>0.409606</td>\n",
       "      <td>0.520987</td>\n",
       "      <td>3198.609204</td>\n",
       "      <td>0</td>\n",
       "    </tr>\n",
       "  </tbody>\n",
       "</table>\n",
       "<p>403 rows × 12 columns</p>\n",
       "</div>"
      ],
      "text/plain": [
       "     Homogenity   Kurtosis  Correlation  Skewness   Entropy        RMS  \\\n",
       "0      0.960662  15.266355     0.823309  3.358529  3.609497   8.611277   \n",
       "1      0.954867  12.042898     0.853721  2.849428  4.170216   9.975618   \n",
       "2      0.960758   8.903400     0.884276  2.386336  3.996901   9.922909   \n",
       "3      0.976719   5.570027     0.987480  1.956509  2.839669   6.516737   \n",
       "4      0.966973   3.075216     0.984210  1.267840  3.922062   8.610412   \n",
       "..          ...        ...          ...       ...       ...        ...   \n",
       "398    0.962738   3.333108     0.967364  1.251144  4.555246  10.167802   \n",
       "399    0.954041   3.372392     0.953120  1.214767  4.931591  10.993690   \n",
       "400    0.933813   2.885659     0.886777  1.108409  4.582792  10.586401   \n",
       "401    0.965171   5.990507     0.935475  2.004759  2.985550   8.017354   \n",
       "402    0.949785   4.534865     0.883559  1.589998  3.807573   9.580801   \n",
       "\n",
       "          Mean  Standard_Deviation    Energy  Contrast     Variance  Output  \n",
       "0    18.732925           39.105572  0.573108  0.456388  1294.854341       1  \n",
       "1    27.064723           47.067766  0.420138  0.523621  2004.468146       1  \n",
       "2    29.477890           51.480671  0.459804  0.481740  2443.327884       1  \n",
       "3    31.075862           63.630226  0.540382  0.097457  2657.972212       1  \n",
       "4    50.705765           79.741854  0.386375  0.184712  4034.105273       1  \n",
       "..         ...                 ...       ...       ...          ...     ...  \n",
       "398  50.122040           70.972414  0.339875  0.157950  3483.192466       0  \n",
       "399  47.370056           63.674366  0.315570  0.250123  3311.585020       0  \n",
       "400  54.032267           74.053102  0.314780  0.815119  4917.459593       0  \n",
       "401  29.107671           57.670040  0.537572  0.277083  2971.255470       0  \n",
       "402  36.777445           59.604628  0.409606  0.520987  3198.609204       0  \n",
       "\n",
       "[403 rows x 12 columns]"
      ]
     },
     "execution_count": 14,
     "metadata": {},
     "output_type": "execute_result"
    }
   ],
   "source": [
    "df"
   ]
  },
  {
   "cell_type": "code",
   "execution_count": 15,
   "id": "4e6588e7",
   "metadata": {},
   "outputs": [],
   "source": [
    "# Separate the target variable and feature matrix\n",
    "y = df['Output']\n",
    "X = df.drop('Output', axis=1)"
   ]
  },
  {
   "cell_type": "code",
   "execution_count": 16,
   "id": "cd850a6b",
   "metadata": {},
   "outputs": [
    {
     "data": {
      "text/plain": [
       "Lasso(alpha=0.1)"
      ]
     },
     "execution_count": 16,
     "metadata": {},
     "output_type": "execute_result"
    }
   ],
   "source": [
    "# Fit a Lasso regression model with alpha=0.1\n",
    "lasso = Lasso(alpha=0.1)\n",
    "lasso.fit(X, y)"
   ]
  },
  {
   "cell_type": "code",
   "execution_count": 17,
   "id": "155d415a",
   "metadata": {},
   "outputs": [],
   "source": [
    "# Use mutual_info_classif to compute mutual information scores\n",
    "mi_scores = mutual_info_classif(X, y)"
   ]
  },
  {
   "cell_type": "code",
   "execution_count": 18,
   "id": "8082eaff",
   "metadata": {},
   "outputs": [],
   "source": [
    "# Scale scores between 0 and 1 using min-max scaling\n",
    "scaler = MinMaxScaler()\n",
    "mi_scores_scaled = scaler.fit_transform(mi_scores.reshape(-1, 1))"
   ]
  },
  {
   "cell_type": "code",
   "execution_count": 19,
   "id": "b401adf0",
   "metadata": {},
   "outputs": [],
   "source": [
    "# Create an ordered list of attributes based on scores\n",
    "attr_score = [(col, mi_scores_scaled[i][0]) for i, col in enumerate(X.columns)]\n",
    "attr_score_sorted = sorted(attr_score, key=lambda x: x[1], reverse=True)\n",
    "attr_sorted = [attr[0] for attr in attr_score_sorted]\n",
    "score_sorted = [attr[1] for attr in attr_score_sorted]"
   ]
  },
  {
   "cell_type": "code",
   "execution_count": 20,
   "id": "f4e9f639",
   "metadata": {},
   "outputs": [
    {
     "name": "stdout",
     "output_type": "stream",
     "text": [
      "Ordered attributes:\n",
      "['Contrast', 'RMS', 'Correlation', 'Skewness', 'Kurtosis', 'Variance', 'Standard_Deviation', 'Entropy', 'Energy', 'Mean', 'Homogenity']\n",
      "Ordered scores:\n",
      "[1.0, 0.7629888231403887, 0.5304780985653645, 0.38239207834126504, 0.3221342266661837, 0.2899298325953466, 0.278523184189957, 0.2333741514231556, 0.13142251140900235, 0.006951095727270262, 0.0]\n"
     ]
    }
   ],
   "source": [
    "# Print the ordered attributes and their corresponding scores as arrays\n",
    "print(\"Ordered attributes:\")\n",
    "print(attr_sorted)\n",
    "print(\"Ordered scores:\")\n",
    "print(score_sorted)\n"
   ]
  },
  {
   "cell_type": "code",
   "execution_count": 21,
   "id": "58ab0697",
   "metadata": {},
   "outputs": [
    {
     "data": {
      "image/png": "[encoded data removed]",
      "text/plain": [
       "<Figure size 720x432 with 1 Axes>"
      ]
     },
     "metadata": {
      "needs_background": "light"
     },
     "output_type": "display_data"
    }
   ],
   "source": [
    "# Plot the scores\n",
    "plt.figure(figsize=(10, 6))\n",
    "plt.bar(attr_sorted, score_sorted)\n",
    "plt.xlabel('Attributes')\n",
    "plt.ylabel('Scores (scaled between 0 and 1)')\n",
    "plt.title('Feature Importance')\n",
    "plt.xticks(rotation=90)\n",
    "plt.show()"
   ]
  },
  {
   "cell_type": "code",
   "execution_count": null,
   "id": "ab1737ac",
   "metadata": {},
   "outputs": [],
   "source": []
  }
 ],
 "metadata": {
  "kernelspec": {
   "display_name": "Python 3 (ipykernel)",
   "language": "python",
   "name": "python3"
  },
  "language_info": {
   "codemirror_mode": {
    "name": "ipython",
    "version": 3
   },
   "file_extension": ".py",
   "mimetype": "text/x-python",
   "name": "python",
   "nbconvert_exporter": "python",
   "pygments_lexer": "ipython3",
   "version": "3.9.12"
  }
 },
 "nbformat": 4,
 "nbformat_minor": 5
}
